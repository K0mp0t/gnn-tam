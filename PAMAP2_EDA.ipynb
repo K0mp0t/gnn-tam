{
 "cells": [
  {
   "cell_type": "code",
   "execution_count": 1,
   "id": "d8733227-89e4-499b-824a-dcdc72ef5378",
   "metadata": {
    "execution": {
     "iopub.execute_input": "2025-07-27T14:57:13.402978Z",
     "iopub.status.busy": "2025-07-27T14:57:13.402882Z",
     "iopub.status.idle": "2025-07-27T14:57:49.966447Z",
     "shell.execute_reply": "2025-07-27T14:57:49.966143Z",
     "shell.execute_reply.started": "2025-07-27T14:57:13.402967Z"
    }
   },
   "outputs": [
    {
     "name": "stdout",
     "output_type": "stream",
     "text": [
      "label\n",
      "0.0     929661\n",
      "4.0     238761\n",
      "17.0    238690\n",
      "1.0     192523\n",
      "3.0     189931\n",
      "7.0     188107\n",
      "2.0     185188\n",
      "16.0    175353\n",
      "6.0     164600\n",
      "12.0    117216\n",
      "13.0    104944\n",
      "5.0      98199\n",
      "24.0     49360\n",
      "Name: count, dtype: int64\n"
     ]
    },
    {
     "data": {
      "text/plain": [
       "<Axes: >"
      ]
     },
     "execution_count": 1,
     "metadata": {},
     "output_type": "execute_result"
    },
    {
     "data": {
      "image/png": "[encoded data removed]",
      "text/plain": [
       "<Figure size 640x480 with 1 Axes>"
      ]
     },
     "metadata": {},
     "output_type": "display_data"
    }
   ],
   "source": [
    "import os\n",
    "import pandas as pd\n",
    "import numpy as np\n",
    "\n",
    "dataset_root = './data/pamap2_dataset/Protocol'\n",
    "\n",
    "dataset_dfs = list()\n",
    "\n",
    "for fn in os.listdir(dataset_root):\n",
    "    with open(os.path.join(dataset_root, fn)) as f:\n",
    "        data = f.readlines()\n",
    "\n",
    "    data = list(map(lambda x: x.strip().split(), data))\n",
    "    data = list(map(lambda l: list(map(float, l)), data))\n",
    "\n",
    "    data_df = pd.DataFrame(data, columns=['timestamp', 'label']+[f'feature_{i}' for i in range(len(data[0]) - 2)])\n",
    "    data_df['subject'] = fn.split('.')[0]\n",
    "\n",
    "    dataset_dfs.append(data_df)\n",
    "\n",
    "print(pd.concat(dataset_dfs).label.value_counts())\n",
    "data_df.label.plot()"
   ]
  },
  {
   "cell_type": "code",
   "execution_count": 2,
   "id": "afce6807-2aff-4231-bfa8-783b744d491c",
   "metadata": {
    "execution": {
     "iopub.execute_input": "2025-07-27T14:57:49.966989Z",
     "iopub.status.busy": "2025-07-27T14:57:49.966841Z",
     "iopub.status.idle": "2025-07-27T14:57:50.727872Z",
     "shell.execute_reply": "2025-07-27T14:57:50.727450Z",
     "shell.execute_reply.started": "2025-07-27T14:57:49.966979Z"
    }
   },
   "outputs": [],
   "source": [
    "def slice_df_by_label_changepoints(df):\n",
    "    changepoint_indices = np.where(df.label[:-1].to_numpy() - df.label[1:].to_numpy())[0] + 1\n",
    "    slices = list()\n",
    "\n",
    "    left = 0\n",
    "\n",
    "    for idx in changepoint_indices:\n",
    "        slices.append(df.iloc[left: idx])\n",
    "        left = idx\n",
    "\n",
    "    slices.append(df.iloc[left:])\n",
    "\n",
    "    return slices\n",
    "\n",
    "\n",
    "def merge_slices_by_label(slices):\n",
    "    grouped_slices = dict()\n",
    "    for s in slices:\n",
    "        slice_label = s.iloc[0].label\n",
    "        if slice_label not in grouped_slices:\n",
    "            grouped_slices[slice_label] = [s]\n",
    "        else:\n",
    "            grouped_slices[slice_label].append(s)\n",
    "\n",
    "    return [pd.concat(group) for group in list(grouped_slices.values())]\n",
    "\n",
    "\n",
    "dataset_slices = list()\n",
    "\n",
    "for df in dataset_dfs:\n",
    "    slices = slice_df_by_label_changepoints(df)\n",
    "    slices = merge_slices_by_label(slices)\n",
    "\n",
    "    dataset_slices.extend(slices)\n",
    "\n",
    "dataset_slices = merge_slices_by_label(dataset_slices)\n",
    "assert all([s.label.nunique() == 1 for s in dataset_slices])\n",
    "\n",
    "# 0th class has to be downsampled, others are ok\n",
    "downsampling_number = sorted([s.shape[0] for s in dataset_slices])[-2]\n",
    "zero_class_slice_idx = [s.iloc[0].label for s in dataset_slices].index(0)\n",
    "\n",
    "dataset_slices[zero_class_slice_idx] = dataset_slices[zero_class_slice_idx].groupby('subject').head(int(downsampling_number / dataset_slices[zero_class_slice_idx].subject.nunique()))\n",
    "\n",
    "dataset_df = pd.concat(dataset_slices)\n",
    "dataset_df = dataset_df.loc[pd.notna(dataset_df).all(axis=1)]\n",
    "labels = dataset_df.label\n",
    "dataset_df = dataset_df.drop(columns=['label', 'subject', 'feature_0'])\n",
    "\n",
    "assert labels.nunique() == 13\n",
    "assert dataset_df.shape[0] == labels.shape[0]"
   ]
  },
  {
   "cell_type": "code",
   "execution_count": 3,
   "id": "6955aaa9-b879-4c0c-8f9f-d2950dd9e783",
   "metadata": {
    "execution": {
     "iopub.execute_input": "2025-07-27T14:57:50.728264Z",
     "iopub.status.busy": "2025-07-27T14:57:50.728168Z",
     "iopub.status.idle": "2025-07-27T14:57:50.730722Z",
     "shell.execute_reply": "2025-07-27T14:57:50.730393Z",
     "shell.execute_reply.started": "2025-07-27T14:57:50.728255Z"
    }
   },
   "outputs": [
    {
     "data": {
      "text/plain": [
       "(194968, 52)"
      ]
     },
     "execution_count": 3,
     "metadata": {},
     "output_type": "execute_result"
    }
   ],
   "source": [
    "dataset_df.shape"
   ]
  },
  {
   "cell_type": "code",
   "execution_count": null,
   "id": "4418e350-8f05-4efc-97cc-0e784edd0a46",
   "metadata": {},
   "outputs": [],
   "source": []
  }
 ],
 "metadata": {
  "kernelspec": {
   "display_name": "gnn-tam-env",
   "language": "python",
   "name": "gnn-tam"
  },
  "language_info": {
   "codemirror_mode": {
    "name": "ipython",
    "version": 3
   },
   "file_extension": ".py",
   "mimetype": "text/x-python",
   "name": "python",
   "nbconvert_exporter": "python",
   "pygments_lexer": "ipython3",
   "version": "3.11.11"
  }
 },
 "nbformat": 4,
 "nbformat_minor": 5
}
