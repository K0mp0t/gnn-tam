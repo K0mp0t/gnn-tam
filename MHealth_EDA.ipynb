{
 "cells": [
  {
   "cell_type": "code",
   "execution_count": 41,
   "id": "cfc578b0-742a-4342-8c8a-892d81636237",
   "metadata": {
    "execution": {
     "iopub.execute_input": "2025-07-26T15:11:50.757585Z",
     "iopub.status.busy": "2025-07-26T15:11:50.756514Z",
     "iopub.status.idle": "2025-07-26T15:11:55.442878Z",
     "shell.execute_reply": "2025-07-26T15:11:55.442597Z",
     "shell.execute_reply.started": "2025-07-26T15:11:50.757496Z"
    }
   },
   "outputs": [
    {
     "name": "stdout",
     "output_type": "stream",
     "text": [
      "label\n",
      "0     872550\n",
      "5      30720\n",
      "1      30720\n",
      "2      30720\n",
      "3      30720\n",
      "4      30720\n",
      "9      30720\n",
      "11     30720\n",
      "10     30720\n",
      "7      29441\n",
      "8      29337\n",
      "6      28315\n",
      "12     10342\n",
      "Name: count, dtype: int64\n"
     ]
    },
    {
     "data": {
      "text/plain": [
       "<Axes: >"
      ]
     },
     "execution_count": 41,
     "metadata": {},
     "output_type": "execute_result"
    },
    {
     "data": {
      "image/png": "[encoded data removed]",
      "text/plain": [
       "<Figure size 640x480 with 1 Axes>"
      ]
     },
     "metadata": {},
     "output_type": "display_data"
    }
   ],
   "source": [
    "import os\n",
    "import pandas as pd\n",
    "import numpy as np\n",
    "\n",
    "\n",
    "dataset_root = './data/mhealth_dataset'\n",
    "\n",
    "dataset_dfs = list()\n",
    "\n",
    "for fn in os.listdir(dataset_root):\n",
    "    if not fn.endswith('.log'):\n",
    "        continue\n",
    "    with open(os.path.join(dataset_root, fn)) as f:\n",
    "        data = f.readlines()\n",
    "    data = [list(map(float, line.split('\\t'))) for line in data]\n",
    "    data_df = pd.DataFrame(data)\n",
    "\n",
    "    columns_mapping = {c: f'feature_{c}' if c < len(data_df.columns) - 1 else 'label' for c in data_df.columns}\n",
    "    data_df = data_df.rename(columns=columns_mapping)\n",
    "\n",
    "    data_df['label'] = data_df.label.astype(int)\n",
    "    data_df['subject'] = fn.split('_')[1].split('.')[0]\n",
    "    dataset_dfs.append(data_df)\n",
    "\n",
    "print(pd.concat(df.label for df in dataset_dfs).value_counts())\n",
    "data_df.label.plot()"
   ]
  },
  {
   "cell_type": "markdown",
   "id": "03441b0d-9dfe-4935-85b9-d7e40b20a0a6",
   "metadata": {},
   "source": [
    "Как-то надо засубсемплить это все, ничего не сломав"
   ]
  },
  {
   "cell_type": "code",
   "execution_count": 80,
   "id": "831d68c9-c387-4e4c-b545-9e4dee16ede8",
   "metadata": {
    "execution": {
     "iopub.execute_input": "2025-07-26T15:58:29.061761Z",
     "iopub.status.busy": "2025-07-26T15:58:29.061249Z",
     "iopub.status.idle": "2025-07-26T15:58:29.227654Z",
     "shell.execute_reply": "2025-07-26T15:58:29.227311Z",
     "shell.execute_reply.started": "2025-07-26T15:58:29.061749Z"
    }
   },
   "outputs": [],
   "source": [
    "def slice_df_by_label_changepoints(df):\n",
    "    changepoint_indices = np.where(df.label[:-1].to_numpy() - df.label[1:].to_numpy())[0] + 1\n",
    "    slices = list()\n",
    "\n",
    "    left = 0\n",
    "\n",
    "    for idx in changepoint_indices:\n",
    "        slices.append(df.iloc[left: idx])\n",
    "        left = idx\n",
    "\n",
    "    slices.append(df.iloc[left:])\n",
    "\n",
    "    return slices\n",
    "\n",
    "\n",
    "def merge_slices_by_label(slices):\n",
    "    grouped_slices = dict()\n",
    "    for s in slices:\n",
    "        slice_label = s.iloc[0].label\n",
    "        if slice_label not in grouped_slices:\n",
    "            grouped_slices[slice_label] = [s]\n",
    "        else:\n",
    "            grouped_slices[slice_label].append(s)\n",
    "\n",
    "    return [pd.concat(group) for group in list(grouped_slices.values())]\n",
    "\n",
    "\n",
    "dataset_slices = list()\n",
    "\n",
    "for df in dataset_dfs:\n",
    "    slices = slice_df_by_label_changepoints(df)\n",
    "    slices = merge_slices_by_label(slices)\n",
    "\n",
    "    dataset_slices.extend(slices)\n",
    "\n",
    "dataset_slices = merge_slices_by_label(dataset_slices)\n",
    "assert all([s.label.nunique() == 1 for s in dataset_slices])\n",
    "\n",
    "# 0th class has to be downsampled, others are ok\n",
    "downsampling_number = sorted([s.shape[0] for s in dataset_slices])[-2]\n",
    "zero_class_slice_idx = [s.iloc[0].label for s in dataset_slices].index(0)\n",
    "\n",
    "dataset_slices[zero_class_slice_idx] = dataset_slices[zero_class_slice_idx].groupby('subject').head(int(downsampling_number / dataset_slices[zero_class_slice_idx].subject.nunique()))\n",
    "\n",
    "dataset_df = pd.concat(dataset_slices)\n",
    "labels = dataset_df.label\n",
    "dataset_df = dataset_df.drop(columns=['label', 'subject'])\n",
    "\n",
    "assert labels.nunique() == 13\n",
    "assert dataset_df.shape[0] == labels.shape[0]"
   ]
  },
  {
   "cell_type": "code",
   "execution_count": null,
   "id": "28d11eb0-490d-494b-8d99-0d28546b1a54",
   "metadata": {},
   "outputs": [],
   "source": []
  }
 ],
 "metadata": {
  "kernelspec": {
   "display_name": "gnn-tam-env",
   "language": "python",
   "name": "gnn-tam"
  },
  "language_info": {
   "codemirror_mode": {
    "name": "ipython",
    "version": 3
   },
   "file_extension": ".py",
   "mimetype": "text/x-python",
   "name": "python",
   "nbconvert_exporter": "python",
   "pygments_lexer": "ipython3",
   "version": "3.11.11"
  }
 },
 "nbformat": 4,
 "nbformat_minor": 5
}
